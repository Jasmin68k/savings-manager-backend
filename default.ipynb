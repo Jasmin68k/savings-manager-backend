{
 "cells": [
  {
   "cell_type": "markdown",
   "id": "b31acf5d-934e-4038-8456-7722e1e53700",
   "metadata": {},
   "source": [
    "# Load ENV File"
   ]
  },
  {
   "cell_type": "code",
   "execution_count": 1,
   "id": "a9e44687-ae0b-4900-b913-cada51ce701a",
   "metadata": {},
   "outputs": [
    {
     "name": "stdout",
     "output_type": "stream",
     "text": [
      "Loaded envs\\.env\n"
     ]
    }
   ],
   "source": [
    "from pathlib import Path\n",
    "\n",
    "from src.custom_types import EnvironmentTypes\n",
    "\n",
    "from dotenv import load_dotenv\n",
    "\n",
    "dotenv_path = Path(\"envs/.env\")\n",
    "load_dotenv(dotenv_path=dotenv_path)\n",
    "print(f\"Loaded {dotenv_path}\")"
   ]
  },
  {
   "cell_type": "markdown",
   "id": "54085d97-68e4-43d7-b991-ff067aeb738f",
   "metadata": {},
   "source": [
    "# Create DB_MANAGER"
   ]
  },
  {
   "cell_type": "code",
   "execution_count": 2,
   "id": "5935ce58-dd95-493e-b255-ba3e59db6e3a",
   "metadata": {},
   "outputs": [
    {
     "ename": "ImportError",
     "evalue": "cannot import name 'MoneyBoxNotFoundError' from 'src.db.exceptions' (F:\\dev\\python\\savings_manager\\src\\db\\exceptions.py)",
     "output_type": "error",
     "traceback": [
      "\u001b[1;31m---------------------------------------------------------------------------\u001b[0m",
      "\u001b[1;31mImportError\u001b[0m                               Traceback (most recent call last)",
      "Cell \u001b[1;32mIn[2], line 1\u001b[0m\n\u001b[1;32m----> 1\u001b[0m \u001b[38;5;28;01mfrom\u001b[39;00m \u001b[38;5;21;01msrc\u001b[39;00m\u001b[38;5;21;01m.\u001b[39;00m\u001b[38;5;21;01mdb\u001b[39;00m\u001b[38;5;21;01m.\u001b[39;00m\u001b[38;5;21;01mdb_manager\u001b[39;00m \u001b[38;5;28;01mimport\u001b[39;00m DBManager\n\u001b[0;32m      2\u001b[0m \u001b[38;5;28;01mfrom\u001b[39;00m \u001b[38;5;21;01msrc\u001b[39;00m\u001b[38;5;21;01m.\u001b[39;00m\u001b[38;5;21;01mutils\u001b[39;00m \u001b[38;5;28;01mimport\u001b[39;00m get_db_settings\n\u001b[0;32m      4\u001b[0m db_manager \u001b[38;5;241m=\u001b[39m DBManager(\n\u001b[0;32m      5\u001b[0m     db_settings\u001b[38;5;241m=\u001b[39mget_db_settings(),\n\u001b[0;32m      6\u001b[0m )\n",
      "File \u001b[1;32mF:\\dev\\python\\savings_manager\\src\\db\\db_manager.py:8\u001b[0m\n\u001b[0;32m      5\u001b[0m \u001b[38;5;28;01mfrom\u001b[39;00m \u001b[38;5;21;01msqlalchemy\u001b[39;00m\u001b[38;5;21;01m.\u001b[39;00m\u001b[38;5;21;01mext\u001b[39;00m\u001b[38;5;21;01m.\u001b[39;00m\u001b[38;5;21;01masyncio\u001b[39;00m \u001b[38;5;28;01mimport\u001b[39;00m async_sessionmaker, create_async_engine\n\u001b[0;32m      7\u001b[0m \u001b[38;5;28;01mfrom\u001b[39;00m \u001b[38;5;21;01msrc\u001b[39;00m\u001b[38;5;21;01m.\u001b[39;00m\u001b[38;5;21;01mcustom_types\u001b[39;00m \u001b[38;5;28;01mimport\u001b[39;00m DBSettings\n\u001b[1;32m----> 8\u001b[0m \u001b[38;5;28;01mfrom\u001b[39;00m \u001b[38;5;21;01msrc\u001b[39;00m\u001b[38;5;21;01m.\u001b[39;00m\u001b[38;5;21;01mdb\u001b[39;00m\u001b[38;5;21;01m.\u001b[39;00m\u001b[38;5;21;01mcore\u001b[39;00m \u001b[38;5;28;01mimport\u001b[39;00m create_instance, delete_instance\n\u001b[0;32m      9\u001b[0m \u001b[38;5;28;01mfrom\u001b[39;00m \u001b[38;5;21;01msrc\u001b[39;00m\u001b[38;5;21;01m.\u001b[39;00m\u001b[38;5;21;01mdb\u001b[39;00m\u001b[38;5;21;01m.\u001b[39;00m\u001b[38;5;21;01mexceptions\u001b[39;00m \u001b[38;5;28;01mimport\u001b[39;00m MoneyboxNotFoundError\n\u001b[0;32m     10\u001b[0m \u001b[38;5;28;01mfrom\u001b[39;00m \u001b[38;5;21;01msrc\u001b[39;00m\u001b[38;5;21;01m.\u001b[39;00m\u001b[38;5;21;01mdb\u001b[39;00m\u001b[38;5;21;01m.\u001b[39;00m\u001b[38;5;21;01mmodels\u001b[39;00m \u001b[38;5;28;01mimport\u001b[39;00m MoneyBox\n",
      "File \u001b[1;32mF:\\dev\\python\\savings_manager\\src\\db\\core.py:7\u001b[0m\n\u001b[0;32m      5\u001b[0m \u001b[38;5;28;01mfrom\u001b[39;00m \u001b[38;5;21;01msqlalchemy\u001b[39;00m \u001b[38;5;28;01mimport\u001b[39;00m insert, delete\n\u001b[0;32m      6\u001b[0m \u001b[38;5;28;01mfrom\u001b[39;00m \u001b[38;5;21;01msqlalchemy\u001b[39;00m\u001b[38;5;21;01m.\u001b[39;00m\u001b[38;5;21;01mext\u001b[39;00m\u001b[38;5;21;01m.\u001b[39;00m\u001b[38;5;21;01masyncio\u001b[39;00m \u001b[38;5;28;01mimport\u001b[39;00m AsyncSession\n\u001b[1;32m----> 7\u001b[0m \u001b[38;5;28;01mfrom\u001b[39;00m \u001b[38;5;21;01msrc\u001b[39;00m\u001b[38;5;21;01m.\u001b[39;00m\u001b[38;5;21;01mdb\u001b[39;00m\u001b[38;5;21;01m.\u001b[39;00m\u001b[38;5;21;01mexceptions\u001b[39;00m \u001b[38;5;28;01mimport\u001b[39;00m MoneyBoxNotFoundError\n\u001b[0;32m      9\u001b[0m \u001b[38;5;28;01mfrom\u001b[39;00m \u001b[38;5;21;01msrc\u001b[39;00m\u001b[38;5;21;01m.\u001b[39;00m\u001b[38;5;21;01mdb\u001b[39;00m\u001b[38;5;21;01m.\u001b[39;00m\u001b[38;5;21;01mmodels\u001b[39;00m \u001b[38;5;28;01mimport\u001b[39;00m SqlBase\n\u001b[0;32m     12\u001b[0m \u001b[38;5;28;01masync\u001b[39;00m \u001b[38;5;28;01mdef\u001b[39;00m \u001b[38;5;21mcreate_instance\u001b[39m(\n\u001b[0;32m     13\u001b[0m     async_session: AsyncSession,\n\u001b[0;32m     14\u001b[0m     orm_model: SqlBase,\n\u001b[0;32m     15\u001b[0m     data: \u001b[38;5;28mdict\u001b[39m[\u001b[38;5;28mstr\u001b[39m, Any],\n\u001b[0;32m     16\u001b[0m ) \u001b[38;5;241m-\u001b[39m\u001b[38;5;241m>\u001b[39m SqlBase:\n",
      "\u001b[1;31mImportError\u001b[0m: cannot import name 'MoneyBoxNotFoundError' from 'src.db.exceptions' (F:\\dev\\python\\savings_manager\\src\\db\\exceptions.py)"
     ]
    }
   ],
   "source": [
    "from src.db.db_manager import DBManager\n",
    "from src.utils import get_db_settings\n",
    "\n",
    "db_manager = DBManager(\n",
    "    db_settings=get_db_settings(),\n",
    ")"
   ]
  },
  {
   "cell_type": "markdown",
   "id": "5b673103-093b-4aa1-8ed5-877cfe955b9d",
   "metadata": {},
   "source": [
    "# EXAMPLES"
   ]
  },
  {
   "cell_type": "markdown",
   "id": "f71ab956-2819-46ce-a74d-407853733671",
   "metadata": {},
   "source": [
    "## Create Moneyboxes"
   ]
  },
  {
   "cell_type": "code",
   "execution_count": null,
   "id": "a80a4bbf-e0ef-4d7a-8690-3a1ae299484c",
   "metadata": {},
   "outputs": [],
   "source": [
    "import uuid\n",
    "\n",
    "db_manager = DBManager(\n",
    "    db_settings=get_db_settings(),\n",
    ")\n",
    "\n",
    "GENERATE_N_MONEYBOXES = 10\n",
    "created_moneyboxes = {}\n",
    "\n",
    "for _ in range(GENERATE_N_MONEYBOXES):\n",
    "    moneybox_data = {\"name\": f\"Test Monybox [{uuid.uuid4()}]\"}\n",
    "    moneybox = await db_manager.add_moneybox(moneybox_data=moneybox_data)\n",
    "    created_moneyboxes[moneybox[\"id\"]] = moneybox\n",
    "    print(f\"Created: {moneybox}\")"
   ]
  },
  {
   "cell_type": "markdown",
   "id": "73cb0008-5aa2-4dac-aa6d-52cb9701705a",
   "metadata": {},
   "source": [
    "## Delete Moneyboxes"
   ]
  },
  {
   "cell_type": "code",
   "execution_count": null,
   "id": "eae498be-8a7b-431b-9be3-6f93c4454ff3",
   "metadata": {},
   "outputs": [],
   "source": [
    "from pprint import pprint\n",
    "\n",
    "#pprint(created_moneyboxes)\n",
    "\n",
    "delete_moneybox_ids = [moneybox_id for moneybox_id, moneybox in created_moneyboxes.items() if moneybox[\"id\"] % 3 == 0]\n",
    "print(f\"Try to delete Moneyboxex with id: {', '.join(map(str, delete_moneybox_ids))}\")\n",
    "\n",
    "\n",
    "for moneybox_id in delete_moneybox_ids:\n",
    "    try:\n",
    "        await db_manager.delete_moneybox(moneybox_id=moneybox_id)\n",
    "    except Exception as ex:\n",
    "        print(ex)\n"
   ]
  }
 ],
 "metadata": {
  "kernelspec": {
   "display_name": "Python 3 (ipykernel)",
   "language": "python",
   "name": "python3"
  },
  "language_info": {
   "codemirror_mode": {
    "name": "ipython",
    "version": 3
   },
   "file_extension": ".py",
   "mimetype": "text/x-python",
   "name": "python",
   "nbconvert_exporter": "python",
   "pygments_lexer": "ipython3",
   "version": "3.11.5"
  }
 },
 "nbformat": 4,
 "nbformat_minor": 5
}
